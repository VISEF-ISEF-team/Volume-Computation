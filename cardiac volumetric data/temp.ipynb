{
 "cells": [
  {
   "cell_type": "code",
   "execution_count": 10,
   "metadata": {},
   "outputs": [
    {
     "data": {
      "text/plain": [
       "(512, 600, 600)"
      ]
     },
     "execution_count": 10,
     "metadata": {},
     "output_type": "execute_result"
    }
   ],
   "source": [
    "import SimpleITK as sitkf\n",
    "from supporters import *\n",
    "\n",
    "path = \"D:\\Documents\\GitHub\\VascuIAR\\DeepLearning\\data\\VnRawData\\VHSCDD_sep_labels\\VHSCDD_020_label\\ct_020_label_7.nii.gz\"  # Paste your path to .nii.gz or .nii file\n",
    "raw = sitk.ReadImage(path, sitk.sitkFloat64)\n",
    "volume = sitk.GetArrayFromImage(raw)\n",
    "volume.shape"
   ]
  }
 ],
 "metadata": {
  "kernelspec": {
   "display_name": ".venv",
   "language": "python",
   "name": "python3"
  },
  "language_info": {
   "codemirror_mode": {
    "name": "ipython",
    "version": 3
   },
   "file_extension": ".py",
   "mimetype": "text/x-python",
   "name": "python",
   "nbconvert_exporter": "python",
   "pygments_lexer": "ipython3",
   "version": "3.10.0"
  }
 },
 "nbformat": 4,
 "nbformat_minor": 2
}
